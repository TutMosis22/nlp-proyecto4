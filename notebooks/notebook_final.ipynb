{
 "cells": [
  {
   "cell_type": "markdown",
   "id": "392eb29f",
   "metadata": {},
   "source": [
    "Con ese notebook busco demostrar el funcionamiento completo del proyecto:\n",
    "- Inferencia con modelos de Hugging Face\n",
    "- Exportación a ONNX\n",
    "- Benchmark en CPU\n",
    "- Servidor FastAPI para inferencia REST"
   ]
  },
  {
   "cell_type": "code",
   "execution_count": 1,
   "id": "d0573e79",
   "metadata": {},
   "outputs": [],
   "source": [
    "import sys\n",
    "import os"
   ]
  },
  {
   "cell_type": "code",
   "execution_count": 2,
   "id": "f737be0d",
   "metadata": {},
   "outputs": [],
   "source": [
    "project_root = os.path.abspath(os.path.join(os.getcwd(), '..'))\n",
    "if project_root not in sys.path:\n",
    "    sys.path.insert(0, project_root)"
   ]
  },
  {
   "cell_type": "markdown",
   "id": "b0c5ec4d",
   "metadata": {},
   "source": [
    "1. Carga y prueba de pipelines"
   ]
  },
  {
   "cell_type": "code",
   "execution_count": 3,
   "id": "4dbc4516",
   "metadata": {},
   "outputs": [
    {
     "name": "stderr",
     "output_type": "stream",
     "text": [
      "c:\\Users\\calag\\Desktop\\nlp-proyecto4\\venv\\Lib\\site-packages\\tqdm\\auto.py:21: TqdmWarning: IProgress not found. Please update jupyter and ipywidgets. See https://ipywidgets.readthedocs.io/en/stable/user_install.html\n",
      "  from .autonotebook import tqdm as notebook_tqdm\n",
      "Device set to use cpu\n",
      "Device set to use cpu\n"
     ]
    }
   ],
   "source": [
    "from inference.pipelines import generate_text, answer_question"
   ]
  },
  {
   "cell_type": "code",
   "execution_count": 5,
   "id": "88e46e88",
   "metadata": {},
   "outputs": [
    {
     "name": "stderr",
     "output_type": "stream",
     "text": [
      "Truncation was not explicitly activated but `max_length` is provided a specific value, please use `truncation=True` to explicitly truncate examples to max length. Defaulting to 'longest_first' truncation strategy. If you encode pairs of sequences (GLUE-style) with the tokenizer you can select this strategy more precisely by providing a specific strategy to `truncation`.\n",
      "Setting `pad_token_id` to `eos_token_id`:50256 for open-end generation.\n",
      "Both `max_new_tokens` (=256) and `max_length`(=40) seem to have been set. `max_new_tokens` will take precedence. Please refer to the documentation for more information. (https://huggingface.co/docs/transformers/main/en/main_classes/text_generation)\n"
     ]
    },
    {
     "name": "stdout",
     "output_type": "stream",
     "text": [
      "Texto generado:\n",
      " Once upon a time in a galaxy where the galaxy is dark, the galaxy has a bright, bright galaxy with a dark red galaxy. When it is dark, the galaxy has a dark blue galaxy. The galaxy has a bright red galaxy. A galaxy as bright as this galaxy, the galaxy has a dark red galaxy. When it is dark, the galaxy has a bright red galaxy. The galaxy has a bright red galaxy. When it is dark, the galaxy has a bright red galaxy. The galaxy has a bright red galaxy. The galaxy has a bright red galaxy. The galaxy has a bright red galaxy. When it is dark, the galaxy has a bright red galaxy. The galaxy has a bright red galaxy. The galaxy has a bright red galaxy. The galaxy has a bright red galaxy. The galaxy has a bright red galaxy. The galaxy has a bright red galaxy. The galaxy has a bright red galaxy. The galaxy has a bright red galaxy. The galaxy has a bright red galaxy. The galaxy has a bright red galaxy. The galaxy has a bright red galaxy. The galaxy has a bright red galaxy. The galaxy has a bright red galaxy. The galaxy has a bright red galaxy. The galaxy has a bright red galaxy. The galaxy has a bright red galaxy. The galaxy has a bright red galaxy.\n"
     ]
    }
   ],
   "source": [
    "#PRUEBA 1: GENERACIÓN DE TEXTO\n",
    "prompt = \"Once upon a time in a galaxy\"\n",
    "generated = generate_text(prompt, max_length=40)\n",
    "\n",
    "print(\"Texto generado:\\n\", generated)"
   ]
  },
  {
   "cell_type": "code",
   "execution_count": 6,
   "id": "b20f6072",
   "metadata": {},
   "outputs": [
    {
     "name": "stdout",
     "output_type": "stream",
     "text": [
      "Respuesta: 1876\n"
     ]
    }
   ],
   "source": [
    "#PRUEBA 2: PREGUNTA Y RESPUESTA\n",
    "context = \"La UNI está ubicada en Lima, Perú y fue fundada en 1876\"\n",
    "question = \"¿Cuándo fue fundada la UNI?\"\n",
    "answer = answer_question(context, question)\n",
    "\n",
    "print(\"Respuesta:\", answer)"
   ]
  },
  {
   "cell_type": "markdown",
   "id": "4b0aafec",
   "metadata": {},
   "source": [
    "2. Prueba del modelo ONNX cargado"
   ]
  },
  {
   "cell_type": "code",
   "execution_count": 7,
   "id": "3add57ec",
   "metadata": {},
   "outputs": [],
   "source": [
    "import onnxruntime as ort\n",
    "from transformers import AutoTokenizer"
   ]
  },
  {
   "cell_type": "code",
   "execution_count": 9,
   "id": "e19f9f42",
   "metadata": {},
   "outputs": [],
   "source": [
    "model_path = \"../export/model_qa.onnx\"\n",
    "tokenizer = AutoTokenizer.from_pretrained(\"distilbert-base-cased-distilled-squad\")\n",
    "\n",
    "context = \"La UNI fue fundada en 1876 y está en Lima.\"\n",
    "question = \"¿Dónde está la UNI?\"\n",
    "\n",
    "inputs = tokenizer(question, context, return_tensors=\"np\")\n",
    "session = ort.InferenceSession(model_path)\n",
    "outputs = session.run(None, {\n",
    "    \"input_ids\": inputs[\"input_ids\"],\n",
    "    \"attention_mask\": inputs[\"attention_mask\"]\n",
    "})"
   ]
  },
  {
   "cell_type": "code",
   "execution_count": 10,
   "id": "0c7334e8",
   "metadata": {},
   "outputs": [
    {
     "name": "stdout",
     "output_type": "stream",
     "text": [
      "Respuesta con ONNX: Lima\n"
     ]
    }
   ],
   "source": [
    "start = outputs[0].argmax()\n",
    "end = outputs[1].argmax() + 1\n",
    "respuesta = tokenizer.decode(inputs[\"input_ids\"][0][start:end])\n",
    "print(\"Respuesta con ONNX:\", respuesta)"
   ]
  },
  {
   "cell_type": "markdown",
   "id": "fc7c1e9d",
   "metadata": {},
   "source": [
    "3. Comparación del tiempo de inferencia (benchmark)"
   ]
  },
  {
   "cell_type": "code",
   "execution_count": 12,
   "id": "c3047672",
   "metadata": {},
   "outputs": [
    {
     "name": "stdout",
     "output_type": "stream",
     "text": [
      "\n",
      "Resultados de Benchmark:\n",
      "\n",
      " modelo  batch_size  latencia_s  throughput\n",
      "pytorch          16    0.011466   87.214400\n",
      "   onnx          16    0.008502  117.616407\n"
     ]
    }
   ],
   "source": [
    "!python ../benchmarks/benchmark.py"
   ]
  },
  {
   "cell_type": "markdown",
   "id": "8d6a2355",
   "metadata": {},
   "source": [
    "4. Prueba con batch y padding dinámico"
   ]
  },
  {
   "cell_type": "code",
   "execution_count": 13,
   "id": "bde4e532",
   "metadata": {},
   "outputs": [
    {
     "name": "stdout",
     "output_type": "stream",
     "text": [
      " ¿Dónde está la UNI?\n",
      " Respuesta: Lima\n",
      "\n",
      " ¿Cuándo fue fundada la UNI?\n",
      " Respuesta: La Universidad Nacional de Ingeniería fue fundada en 1876 y está ubicada en Lima, Perú\n",
      "\n",
      " ¿Cómo se conoce también a la UNI?\n",
      " Respuesta: conocida como Universidad Nacional de Ingeniería\n",
      "\n"
     ]
    }
   ],
   "source": [
    "from inference.batching import *"
   ]
  },
  {
   "cell_type": "markdown",
   "id": "fce08b06",
   "metadata": {},
   "source": [
    "5. Prueba del servidor FastAPI (si ya está corriendo)"
   ]
  },
  {
   "cell_type": "markdown",
   "id": "26734251",
   "metadata": {},
   "source": [
    "http://localhost:8000/docs"
   ]
  }
 ],
 "metadata": {
  "kernelspec": {
   "display_name": "venv",
   "language": "python",
   "name": "python3"
  },
  "language_info": {
   "codemirror_mode": {
    "name": "ipython",
    "version": 3
   },
   "file_extension": ".py",
   "mimetype": "text/x-python",
   "name": "python",
   "nbconvert_exporter": "python",
   "pygments_lexer": "ipython3",
   "version": "3.12.2"
  }
 },
 "nbformat": 4,
 "nbformat_minor": 5
}
